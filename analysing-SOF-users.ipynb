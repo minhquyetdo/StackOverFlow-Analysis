{
 "cells": [
  {
   "cell_type": "markdown",
   "id": "c9d92809",
   "metadata": {},
   "source": [
    "## ASM1 : Analysing \"StackOverflow\" Users in habitus and behaviour\n",
    "### Summary:\n",
    "- Given Data: .CSV files (1-2GB) which store questions and answers by users in various topics in StackOverFlow website.\n",
    "- Requirement:\n",
    "    - Store the given data in Mongodb database.\n",
    "    - Using Apache Spark to process large data from database and calculate Bussiness Queries."
   ]
  },
  {
   "cell_type": "markdown",
   "id": "156bd1ad",
   "metadata": {},
   "source": [
    "### 1. Import data to MongoDB database\n",
    "- Using mongoimport (MongDB database tool) to import content from .CSV file to mongodb database, the data will be convert to JSON, using headers as field names.\n",
    "- Run mongoimport from the system command line, not the mongo shell:\n",
    "    - mongoimport --type csv --db StackOverFlow --collection Answers --headerline --drop --file `[your path]`/Answers.csv\n",
    "    - mongoimport --type csv --db StackOverFlow --collection Questions --headerline --drop --file `[your path]`/Questions.csv\n",
    "- Results:\n",
    "    - Database: StackOverFlow.\n",
    "    - Collections: Answers, Questions."
   ]
  },
  {
   "cell_type": "markdown",
   "id": "07b89372",
   "metadata": {},
   "source": [
    "### 2. Read the data from MongoDB, using Spark\n",
    "- Specifying the Connector configuration via SparkSession.\n",
    "- Setting a reader connection to mongoDB port, StackOverFlow database."
   ]
  },
  {
   "cell_type": "code",
   "execution_count": 2,
   "id": "cb7a7504",
   "metadata": {},
   "outputs": [],
   "source": [
    "# Import needed libraries to create a spark session on jupyter-notebook\n",
    "\n",
    "import os\n",
    "import findspark\n",
    "\n",
    "# Link Java11 Home and Spark Home to run Spark Engine API\n",
    "\n",
    "os.environ[\"JAVA_HOME\"] = \"/usr/local/Cellar/openjdk@11/11.0.19\"\n",
    "os.environ[\"SPARK_HOME\"] = \"/usr/local/Cellar/apache-spark/3.4.0/libexec\"\n",
    "\n",
    "findspark.init()\n",
    "\n",
    "# Create a spark session which use \"local\" machine and all CPU core,\n",
    "# The session open a reader connect to mongodb localhost, \"StackOverFlow\" database.\n",
    "\n",
    "from pyspark.sql import SparkSession, Window\n",
    "from pyspark import SparkConf\n",
    "from pyspark.sql import functions as func\n",
    "from pyspark.sql.types import StructType, StructField, IntegerType, StringType, LongType, DoubleType, ArrayType\n",
    "\n",
    "myConf = SparkConf() \\\n",
    "    .setMaster('local[*]') \\\n",
    "    .setAppName('ASM1')\n",
    "\n",
    "spark = SparkSession \\\n",
    "        .builder \\\n",
    "        .config(conf=myConf) \\\n",
    "        .config(\"spark.mongodb.read.connection.uri\", \"mongodb://127.0.0.1:27017/\") \\\n",
    "        .config(\"spark.mongodb.read.database\", \"StackOverFlow\") \\\n",
    "        .getOrCreate()"
   ]
  },
  {
   "cell_type": "markdown",
   "id": "19babe16",
   "metadata": {},
   "source": [
    "### 3. Normalize the data\n",
    "- Read two collections by the reader connection.\n",
    "- Store collection's data to the corresponding dataframe.\n",
    "- Correcting the data type and convert N/A data to null value.\n",
    "- Final data store in:\n",
    "    - questionsDF\n",
    "    - answersDF"
   ]
  },
  {
   "cell_type": "code",
   "execution_count": 3,
   "id": "336f62e8",
   "metadata": {},
   "outputs": [],
   "source": [
    "# Using the reader connection, create dataframes from reading mongodb collections, change the data to appropriate type. \n",
    "\n",
    "questionsRawDF = spark.read.format(\"mongodb\").option(\"spark.mongodb.read.collection\", \"Questions\").load()\n",
    "\n",
    "questionsDF = questionsRawDF \\\n",
    "    .withColumn(\"CreationDate\", func.to_date(func.col(\"CreationDate\"))) \\\n",
    "    .withColumn(\"ClosedDate\", func.to_date(func.col(\"ClosedDate\"))) \\\n",
    "    .withColumn(\"OwnerUserId\", func.col(\"OwnerUserId\").cast(\"int\")) \\\n",
    "    .drop(\"_id\")\n",
    "\n",
    "#questionsDF.printSchema()\n",
    "\n",
    "answersRawDF = spark.read.format(\"mongodb\").option(\"spark.mongodb.read.collection\", \"Answers\").load()\n",
    "\n",
    "answersDF = answersRawDF \\\n",
    "    .withColumn(\"CreationDate\", func.to_date(func.col(\"CreationDate\"))) \\\n",
    "    .withColumn(\"OwnerUserId\", func.col(\"OwnerUserId\").cast(\"int\")) \\\n",
    "    .drop(\"_id\")\n",
    "\n",
    "#answersDF.printSchema()"
   ]
  },
  {
   "cell_type": "markdown",
   "id": "f432604b",
   "metadata": {},
   "source": [
    "root\n",
    " |-- Body: string (nullable = true)\n",
    " |-- ClosedDate: date (nullable = true)\n",
    " |-- CreationDate: date (nullable = true)\n",
    " |-- Id: integer (nullable = true)\n",
    " |-- OwnerUserId: integer (nullable = true)\n",
    " |-- Score: integer (nullable = true)\n",
    " |-- Title: string (nullable = true)\n",
    "\n",
    "root\n",
    " |-- Body: string (nullable = true)\n",
    " |-- CreationDate: date (nullable = true)\n",
    " |-- Id: integer (nullable = true)\n",
    " |-- OwnerUserId: integer (nullable = true)\n",
    " |-- ParentId: integer (nullable = true)\n",
    " |-- Score: integer (nullable = true)"
   ]
  },
  {
   "cell_type": "markdown",
   "id": "3c07b5c7",
   "metadata": {},
   "source": [
    "### 4. Finding the frequency of programming languages in questions data\n",
    "- Count each time when a programming language was used in a question's body element.\n",
    "- Each question's body element will be exploded and separated by a space ' '\n",
    "- Final data store in:\n",
    "    - totalLanguageDF"
   ]
  },
  {
   "cell_type": "code",
   "execution_count": 26,
   "id": "ce4f8de6",
   "metadata": {},
   "outputs": [
    {
     "name": "stderr",
     "output_type": "stream",
     "text": [
      "[Stage 9:=============================>                             (3 + 3) / 6]\r"
     ]
    },
    {
     "name": "stdout",
     "output_type": "stream",
     "text": [
      "+-------------------+-----+\n",
      "|Programing Language|Count|\n",
      "+-------------------+-----+\n",
      "|               Java| 4475|\n",
      "|             Python| 1651|\n",
      "|                C++| 2233|\n",
      "|                 C#| 2997|\n",
      "|                 Go| 1946|\n",
      "|               Ruby|  887|\n",
      "|         Javascript|  497|\n",
      "|                PHP| 2720|\n",
      "|               HTML| 2746|\n",
      "|                CSS|  903|\n",
      "|                SQL| 6335|\n",
      "+-------------------+-----+\n",
      "\n"
     ]
    },
    {
     "name": "stderr",
     "output_type": "stream",
     "text": [
      "\r",
      "[Stage 9:=================================================>         (5 + 1) / 6]\r",
      "\r",
      "                                                                                \r"
     ]
    }
   ],
   "source": [
    "# Create a programming languages list to iterable through the data\n",
    "\n",
    "languages = ['Java', 'Python', 'C\\+\\+', 'C#', 'Go', 'Ruby', 'Javascript', 'PHP', 'HTML', 'CSS', 'SQL']\n",
    "\n",
    "# Split questions.Body into elements and use regular expression through each element to get the programming language name only. \n",
    "\n",
    "for i, name in enumerate(languages) :\n",
    "    getName = questionsDF \\\n",
    "        .withColumn(\"explodeBody\", func.explode(func.split(func.col(\"Body\"), \" \"))) \\\n",
    "        .select(func.regexp_extract(func.col(\"explodeBody\"), rf\"({name})\" , 1).alias(\"Programing Language\")) \\\n",
    "        .filter(func.col(\"Programing Language\") != \"\") \\\n",
    "        .groupBy(\"Programing Language\") \\\n",
    "        .agg(func.count(\"*\").alias(\"Count\"))\n",
    "    if i == 0:\n",
    "        totalLanguageDF = getName\n",
    "    else:\n",
    "        totalLanguageDF = totalLanguageDF.unionByName(getName, allowMissingColumns=True)\n",
    "        \n",
    "totalLanguageDF.show()\n"
   ]
  },
  {
   "cell_type": "markdown",
   "id": "4386fe04",
   "metadata": {},
   "source": [
    "+-------------------+-----+\n",
    "|Programing Language|Count|\n",
    "+-------------------+-----+\n",
    "|               Java| 4475|\n",
    "|             Python| 1651|\n",
    "|                C++| 2233|\n",
    "|                 C#| 2997|\n",
    "|                 Go| 1946|\n",
    "|               Ruby|  887|\n",
    "|         Javascript|  497|\n",
    "|                PHP| 2720|\n",
    "|               HTML| 2746|\n",
    "|                CSS|  903|\n",
    "|                SQL| 6335|\n",
    "+-------------------+-----+"
   ]
  },
  {
   "cell_type": "markdown",
   "id": "68d2b63b",
   "metadata": {},
   "source": [
    "### 5. Find all the domain and total number of times its appearance in questions data\n",
    "- Count each time when a domain was used in a question's body element.\n",
    "- Each question's body element will be exploded and separated by a space ' '\n",
    "- Final data store in:\n",
    "    - totalDomainDF"
   ]
  },
  {
   "cell_type": "code",
   "execution_count": 27,
   "id": "d21be93e",
   "metadata": {},
   "outputs": [
    {
     "name": "stderr",
     "output_type": "stream",
     "text": [
      "\r",
      "[Stage 10:>                                                         (0 + 1) / 1]\r"
     ]
    },
    {
     "name": "stdout",
     "output_type": "stream",
     "text": [
      "+--------------------+-----+\n",
      "|              Domain|Count|\n",
      "+--------------------+-----+\n",
      "|  stackoverflow.com/| 1977|\n",
      "|   en.wikipedia.org/|  760|\n",
      "| msdn.microsoft.com/|  695|\n",
      "|         www.w3.org/|  594|\n",
      "|schemas.microsoft...|  262|\n",
      "|    code.google.com/|  254|\n",
      "|          localhost/|  236|\n",
      "|        example.com/|  185|\n",
      "|       java.sun.com/|  171|\n",
      "|         github.com/|  133|\n",
      "|     blogs.msdn.com/|  106|\n",
      "|     www.google.com/|   97|\n",
      "|  i.stack.imgur.com/|   91|\n",
      "|        www.last.fm/|   79|\n",
      "|schemas.xmlsoap.org/|   76|\n",
      "|developer.apple.com/|   72|\n",
      "|support.microsoft...|   66|\n",
      "|www.codeproject.com/|   62|\n",
      "|   www.codeplex.com/|   60|\n",
      "|    www.example.com/|   60|\n",
      "+--------------------+-----+\n",
      "only showing top 20 rows\n",
      "\n"
     ]
    },
    {
     "name": "stderr",
     "output_type": "stream",
     "text": [
      "\r",
      "                                                                                \r"
     ]
    }
   ],
   "source": [
    "# Split questions.Body into elements and use regular expression through each element to get the domain name only. \n",
    "\n",
    "totalDomain = questionsDF \\\n",
    "        .withColumn(\"explodeBody\", func.explode(func.split(func.col(\"Body\"), \" \"))) \\\n",
    "        .select(func.regexp_extract(func.col(\"explodeBody\"), r'https?://(\\S+?/)' , 1).alias(\"Domain\")) \\\n",
    "        .filter(func.col(\"Domain\") != \"\") \\\n",
    "        .groupBy(\"Domain\") \\\n",
    "        .agg(func.count(\"*\").alias(\"Count\")) \\\n",
    "        .sort(func.col(\"Count\").desc())\n",
    "\n",
    "totalDomain.show()"
   ]
  },
  {
   "cell_type": "markdown",
   "id": "2a69707b",
   "metadata": {},
   "source": [
    "+--------------------+-----+\n",
    "|              Domain|Count|\n",
    "+--------------------+-----+\n",
    "|  stackoverflow.com/| 1977|\n",
    "|   en.wikipedia.org/|  760|\n",
    "| msdn.microsoft.com/|  695|\n",
    "|         www.w3.org/|  594|\n",
    "|schemas.microsoft...|  262|\n",
    "|    code.google.com/|  254|\n",
    "|          localhost/|  236|\n",
    "|        example.com/|  185|\n",
    "|       java.sun.com/|  171|\n",
    "|         github.com/|  133|\n",
    "|     blogs.msdn.com/|  106|\n",
    "|     www.google.com/|   97|\n",
    "|  i.stack.imgur.com/|   91|\n",
    "|        www.last.fm/|   79|\n",
    "|schemas.xmlsoap.org/|   76|\n",
    "|developer.apple.com/|   72|\n",
    "|support.microsoft...|   66|\n",
    "|www.codeproject.com/|   62|\n",
    "|   www.codeplex.com/|   60|\n",
    "|    www.example.com/|   60|\n",
    "+--------------------+-----+"
   ]
  },
  {
   "cell_type": "markdown",
   "id": "c7e3c45e",
   "metadata": {},
   "source": [
    "### 6. Calculate the total of user's score by each day \n",
    "- Select only needed data in \"questions\" dataframe.\n",
    "- Apply grouping and aggregate functions.\n",
    "- Final data store in:\n",
    "    - totalScoreDF"
   ]
  },
  {
   "cell_type": "code",
   "execution_count": 10,
   "id": "ac020763",
   "metadata": {
    "scrolled": true
   },
   "outputs": [
    {
     "name": "stdout",
     "output_type": "stream",
     "text": [
      "+-----------+------------+----------+-----------+\n",
      "|OwnerUserId|CreationDate|ScoreInDay|RTotalScore|\n",
      "+-----------+------------+----------+-----------+\n",
      "|          1|  2008-11-26|        10|         10|\n",
      "|          1|  2009-01-08|        20|         30|\n",
      "|          1|  2009-10-08|        28|         58|\n",
      "|          4|  2009-01-01|         4|          4|\n",
      "|          4|  2009-02-14|         9|         13|\n",
      "|          5|  2008-12-28|         0|          0|\n",
      "|          5|  2009-04-08|        12|         12|\n",
      "|         17|  2008-08-05|        14|         14|\n",
      "|         23|  2008-12-16|        27|         27|\n",
      "|         25|  2008-08-23|        10|         10|\n",
      "|         25|  2009-04-13|        71|         81|\n",
      "|         26|  2008-08-01|        26|         26|\n",
      "|         26|  2008-08-14|         1|         27|\n",
      "|         26|  2008-08-15|         4|         31|\n",
      "|         26|  2008-09-22|         3|         34|\n",
      "|         26|  2009-01-02|        10|         44|\n",
      "|         26|  2009-01-09|         1|         45|\n",
      "|         26|  2009-02-15|         0|         45|\n",
      "|         26|  2009-03-10|         7|         52|\n",
      "|         26|  2009-04-03|         0|         52|\n",
      "+-----------+------------+----------+-----------+\n",
      "only showing top 20 rows\n",
      "\n"
     ]
    }
   ],
   "source": [
    "# Select and group only needed data only\n",
    "\n",
    "ScoreDF = questionsDF \\\n",
    "    .filter(questionsDF.OwnerUserId != 0) \\\n",
    "    .groupBy(questionsDF.OwnerUserId, questionsDF.CreationDate) \\\n",
    "    .agg(func.sum(\"Score\").alias(\"ScoreInDay\"))\n",
    "\n",
    "# Create a window which running in the questions.CreationDate order (increment date),\n",
    "# and divided by questions.OwnerUserId\n",
    "\n",
    "running_total_window = Window.orderBy(\"CreationDate\") \\\n",
    "        .partitionBy(\"OwnerUserId\")\n",
    "\n",
    "# Run the aggregation through the window\n",
    "\n",
    "totalScoreDF = ScoreDF \\\n",
    "    .withColumn(\"RTotalScore\", func.sum(\"ScoreInDay\").over(running_total_window)) \\\n",
    "    .sort(func.col(\"OwnerUserId\"), func.col(\"CreationDate\"))\n",
    "\n",
    "totalScoreDF.show()"
   ]
  },
  {
   "cell_type": "markdown",
   "id": "908ba38e",
   "metadata": {},
   "source": [
    "+-----------+------------+----------+-----------+\n",
    "|OwnerUserId|CreationDate|ScoreInDay|RTotalScore|\n",
    "+-----------+------------+----------+-----------+\n",
    "|          1|  2008-11-26|        10|         10|\n",
    "|          1|  2009-01-08|        20|         30|\n",
    "|          1|  2009-10-08|        28|         58|\n",
    "|          4|  2009-01-01|         4|          4|\n",
    "|          4|  2009-02-14|         9|         13|\n",
    "|          5|  2008-12-28|         0|          0|\n",
    "|          5|  2009-04-08|        12|         12|\n",
    "|         17|  2008-08-05|        14|         14|\n",
    "|         23|  2008-12-16|        27|         27|\n",
    "|         25|  2008-08-23|        10|         10|\n",
    "|         25|  2009-04-13|        71|         81|\n",
    "|         26|  2008-08-01|        26|         26|\n",
    "|         26|  2008-08-14|         1|         27|\n",
    "|         26|  2008-08-15|         4|         31|\n",
    "|         26|  2008-09-22|         3|         34|\n",
    "|         26|  2009-01-02|        10|         44|\n",
    "|         26|  2009-01-09|         1|         45|\n",
    "|         26|  2009-02-15|         0|         45|\n",
    "|         26|  2009-03-10|         7|         52|\n",
    "|         26|  2009-04-03|         0|         52|\n",
    "+-----------+------------+----------+-----------+\n",
    "only showing top 20 rows\n"
   ]
  },
  {
   "cell_type": "markdown",
   "id": "5960149c",
   "metadata": {},
   "source": [
    "### 7. Calculate the total of user's score by given time \n",
    "- Select only needed data in \"questions\" dataframe.\n",
    "- Apply grouping, windowing and aggregate functions.\n",
    "- Final data store in:\n",
    "    - totalScore2DF"
   ]
  },
  {
   "cell_type": "code",
   "execution_count": 30,
   "id": "8986bef5",
   "metadata": {},
   "outputs": [
    {
     "name": "stdout",
     "output_type": "stream",
     "text": [
      "+-----------+-----------+\n",
      "|OwnerUserId|ScoreInTime|\n",
      "+-----------+-----------+\n",
      "|          1|         30|\n",
      "|          4|         13|\n",
      "|          5|         12|\n",
      "|         17|         14|\n",
      "|         23|         27|\n",
      "|         25|         81|\n",
      "|         26|         52|\n",
      "|         27|          9|\n",
      "|         29|        234|\n",
      "|         33|        222|\n",
      "|         35|         25|\n",
      "|         39|         16|\n",
      "|         40|          7|\n",
      "|         41|         16|\n",
      "|         43|          1|\n",
      "|         45|         24|\n",
      "|         49|         22|\n",
      "|         51|         30|\n",
      "|         55|          2|\n",
      "|         56|         41|\n",
      "+-----------+-----------+\n",
      "only showing top 20 rows\n",
      "\n"
     ]
    }
   ],
   "source": [
    "# Import time library to format correct date type\n",
    "\n",
    "from time import strptime, strftime\n",
    "\n",
    "START = '01-01-2008'\n",
    "END = '01-09-2009'\n",
    "\n",
    "# Filter the dataframe with conditions\n",
    "\n",
    "totalScore2DF = questionsDF \\\n",
    "    .filter(questionsDF.OwnerUserId != 0) \\\n",
    "    .filter(questionsDF.CreationDate >= strftime(\"%Y-%m-%d\", strptime(START, \"%d-%m-%Y\"))) \\\n",
    "    .filter(questionsDF.CreationDate <= strftime(\"%Y-%m-%d\", strptime(END, \"%d-%m-%Y\"))) \\\n",
    "    .groupBy(questionsDF.OwnerUserId) \\\n",
    "    .agg(func.sum(\"Score\").alias(\"ScoreInTime\")) \\\n",
    "    .sort(questionsDF.OwnerUserId)\n",
    "\n",
    "totalScore2DF.show()"
   ]
  },
  {
   "cell_type": "markdown",
   "id": "1a785377",
   "metadata": {},
   "source": [
    "+-----------+-----------+\n",
    "|OwnerUserId|ScoreInTime|\n",
    "+-----------+-----------+\n",
    "|          1|         30|\n",
    "|          4|         13|\n",
    "|          5|         12|\n",
    "|         17|         14|\n",
    "|         23|         27|\n",
    "|         25|         81|\n",
    "|         26|         52|\n",
    "|         27|          9|\n",
    "|         29|        234|\n",
    "|         33|        222|\n",
    "|         35|         25|\n",
    "|         39|         16|\n",
    "|         40|          7|\n",
    "|         41|         16|\n",
    "|         43|          1|\n",
    "|         45|         24|\n",
    "|         49|         22|\n",
    "|         51|         30|\n",
    "|         55|          2|\n",
    "|         56|         41|\n",
    "+-----------+-----------+\n",
    "only showing top 20 rows\n",
    "\n"
   ]
  },
  {
   "cell_type": "markdown",
   "id": "8653b2a5",
   "metadata": {},
   "source": [
    "### 8. Find the total number of good questions\n",
    "- Good questions is known to have more than 5 answers.\n",
    "- In answers data, \"ParentId\" is the question's id. \n",
    "- Final data store in:\n",
    "    - goodQuestionDF"
   ]
  },
  {
   "cell_type": "code",
   "execution_count": 31,
   "id": "e686047b",
   "metadata": {},
   "outputs": [
    {
     "name": "stderr",
     "output_type": "stream",
     "text": [
      "\r",
      "[Stage 13:>                                                         (0 + 1) / 1]\r"
     ]
    },
    {
     "name": "stdout",
     "output_type": "stream",
     "text": [
      "+------+-----------+--------------------+------------+\n",
      "|    Id|OwnerUserID|               Title|TotalAnswers|\n",
      "+------+-----------+--------------------+------------+\n",
      "|406760|      22656|What's your most ...|         295|\n",
      "| 38210|       1944|What non-programm...|         176|\n",
      "| 23930|       1337|Factorial Algorit...|         112|\n",
      "|490420|       9931|Favorite (Clever)...|          64|\n",
      "|100420|       9611|Hidden Features o...|          52|\n",
      "|106340|      17176|What is your favo...|          52|\n",
      "|226970|      28722|What's the  best ...|          45|\n",
      "|274230|      31649|What are the best...|          42|\n",
      "| 24270|       2131|What's the point ...|          41|\n",
      "|202750|      68336|Is there a human ...|          40|\n",
      "|182600|       1533|Should one use < ...|          37|\n",
      "| 84340|      11827|Why learn Perl, P...|          34|\n",
      "|258740|        672|What tools are bu...|          32|\n",
      "|485120|      40516|Will Emacs make m...|          32|\n",
      "| 23250|       2016|When do you use t...|          30|\n",
      "| 23490|       2213|What is your best...|          29|\n",
      "|101070|      12293|What is an ideal ...|          28|\n",
      "|424580|      25815|When foo and bar ...|          28|\n",
      "|547000|      21974|Why would you cho...|          27|\n",
      "|711140|      81036|Why isn't Smallta...|          27|\n",
      "+------+-----------+--------------------+------------+\n",
      "only showing top 20 rows\n",
      "\n"
     ]
    },
    {
     "name": "stderr",
     "output_type": "stream",
     "text": [
      "\r",
      "                                                                                \r"
     ]
    }
   ],
   "source": [
    "# Create only needed dataframe to reduce work load when join\n",
    "\n",
    "questionsidDF = questionsDF \\\n",
    "    .select(\"Id\", \"OwnerUserID\", \"Title\")\n",
    "\n",
    "answersidDF = answersDF \\\n",
    "    .select(\"ParentId\", func.col(\"Id\").alias(\"CommentId\"))\n",
    "\n",
    "# Setting join parameter: key and join type\n",
    "\n",
    "joinExpr = questionsidDF.Id == answersidDF.ParentId\n",
    "joinType = \"inner\"\n",
    "\n",
    "# Join and filter through conditions to get the results\n",
    "\n",
    "goodQuestionDF = questionsidDF \\\n",
    "    .join(answersidDF, joinExpr, joinType) \\\n",
    "    .drop(answersidDF.ParentId) \\\n",
    "    .groupBy(\"Id\", \"OwnerUserID\", \"Title\") \\\n",
    "    .agg(func.count(\"*\").alias(\"TotalAnswers\")) \\\n",
    "    .filter(func.col(\"TotalAnswers\") >= 5) \\\n",
    "    .sort(func.col(\"TotalAnswers\").desc())\n",
    "\n",
    "goodQuestionDF.show()"
   ]
  },
  {
   "cell_type": "markdown",
   "id": "d613d38f",
   "metadata": {},
   "source": [
    "+------+-----------+--------------------+------------+\n",
    "|    Id|OwnerUserID|               Title|TotalAnswers|\n",
    "+------+-----------+--------------------+------------+\n",
    "|406760|      22656|What's your most ...|         295|\n",
    "| 38210|       1944|What non-programm...|         176|\n",
    "| 23930|       1337|Factorial Algorit...|         112|\n",
    "|490420|       9931|Favorite (Clever)...|          64|\n",
    "|100420|       9611|Hidden Features o...|          52|\n",
    "|106340|      17176|What is your favo...|          52|\n",
    "|226970|      28722|What's the  best ...|          45|\n",
    "|274230|      31649|What are the best...|          42|\n",
    "| 24270|       2131|What's the point ...|          41|\n",
    "|202750|      68336|Is there a human ...|          40|\n",
    "|182600|       1533|Should one use < ...|          37|\n",
    "| 84340|      11827|Why learn Perl, P...|          34|\n",
    "|258740|        672|What tools are bu...|          32|\n",
    "|485120|      40516|Will Emacs make m...|          32|\n",
    "| 23250|       2016|When do you use t...|          30|\n",
    "| 23490|       2213|What is your best...|          29|\n",
    "|101070|      12293|What is an ideal ...|          28|\n",
    "|424580|      25815|When foo and bar ...|          28|\n",
    "|547000|      21974|Why would you cho...|          27|\n",
    "|711140|      81036|Why isn't Smallta...|          27|\n",
    "+------+-----------+--------------------+------------+"
   ]
  },
  {
   "cell_type": "markdown",
   "id": "b674e694",
   "metadata": {},
   "source": [
    "### 9. Find the active users\n",
    "- Active users is known to qualify one of the following requirments:\n",
    "\n",
    "    - Having the total number of answers more than 50 or the total score greater than 500. \n",
    "    - Having more than 5 answer in the same day the question created.\n",
    "    \n",
    "- Finding two separate cases and join.\n",
    "- Final data store in:\n",
    "    - activeUsersDF"
   ]
  },
  {
   "cell_type": "code",
   "execution_count": 32,
   "id": "c028372e",
   "metadata": {},
   "outputs": [
    {
     "name": "stdout",
     "output_type": "stream",
     "text": [
      "+-----+\n",
      "|Users|\n",
      "+-----+\n",
      "|  157|\n",
      "|  312|\n",
      "|  357|\n",
      "|  267|\n",
      "|  615|\n",
      "|  905|\n",
      "|  184|\n",
      "| 1199|\n",
      "|   77|\n",
      "|  893|\n",
      "| 1585|\n",
      "| 1659|\n",
      "| 1695|\n",
      "|  142|\n",
      "| 1412|\n",
      "| 1965|\n",
      "|  714|\n",
      "| 2199|\n",
      "| 1968|\n",
      "|  459|\n",
      "+-----+\n",
      "only showing top 20 rows\n",
      "\n"
     ]
    }
   ],
   "source": [
    "# Solve the first case\n",
    "\n",
    "# Filter the dataframe through conditions to get the results\n",
    "\n",
    "firstCaseDF = answersDF \\\n",
    "    .select(func.col(\"OwnerUserId\").alias(\"Users\"), \"Score\") \\\n",
    "    .groupBy(\"Users\") \\\n",
    "    .agg(func.count(\"*\").alias(\"Total comments\"), func.sum(\"Score\").alias(\"Total scores\")) \\\n",
    "    .where((func.col(\"Total comments\") > 50) | (func.col(\"Total scores\") > 500)) \\\n",
    "    .select(\"Users\")\n",
    "\n",
    "# Solve the second case\n",
    "\n",
    "# Create only needed dataframe to reduce work load when join\n",
    "\n",
    "questionsdayDF = questionsDF \\\n",
    "    .select(\"Id\", \"CreationDate\")\n",
    "\n",
    "answersdayDF = answersDF \\\n",
    "    .select(\"ParentId\", func.col(\"Id\").alias(\"CommentId\"), func.col(\"CreationDate\").alias(\"CommentDate\"))\n",
    "\n",
    "# Setting join parameter: key and join type\n",
    "\n",
    "joinExpr2 = (questionsdayDF.Id == answersdayDF.ParentId) & (questionsdayDF.CreationDate == answersdayDF.CommentDate)\n",
    "\n",
    "# Join and filter the dataframe through conditions to get the results\n",
    "\n",
    "secondCaseDF = questionsdayDF \\\n",
    "    .join(answersdayDF, joinExpr2, \"inner\") \\\n",
    "    .drop(answersdayDF.ParentId) \\\n",
    "    .drop(questionsdayDF.CreationDate) \\\n",
    "    .drop(answersdayDF.CommentDate) \\\n",
    "    .groupBy(\"CommentID\") \\\n",
    "    .agg(func.count(\"*\").alias(\"QuickAnswers\")) \\\n",
    "    .filter(func.col(\"QuickAnswers\") > 5) \\\n",
    "    .select(\"CommentID\")\n",
    "\n",
    "# Union two cases results to get the final result\n",
    "\n",
    "activeUsersDF = firstCaseDF.union(secondCaseDF).show()"
   ]
  },
  {
   "cell_type": "markdown",
   "id": "3420a06b",
   "metadata": {},
   "source": [
    "+-----+\n",
    "|Users|\n",
    "+-----+\n",
    "|  157|\n",
    "|  312|\n",
    "|  357|\n",
    "|  267|\n",
    "|  615|\n",
    "|  905|\n",
    "|  184|\n",
    "| 1199|\n",
    "|   77|\n",
    "|  893|\n",
    "| 1585|\n",
    "| 1659|\n",
    "| 1695|\n",
    "|  142|\n",
    "| 1412|\n",
    "| 1965|\n",
    "|  714|\n",
    "| 2199|\n",
    "| 1968|\n",
    "|  459|\n",
    "+-----+\n",
    "only showing top 20 rows\n",
    "\n"
   ]
  }
 ],
 "metadata": {
  "kernelspec": {
   "display_name": "Python 3 (ipykernel)",
   "language": "python",
   "name": "python3"
  },
  "language_info": {
   "codemirror_mode": {
    "name": "ipython",
    "version": 3
   },
   "file_extension": ".py",
   "mimetype": "text/x-python",
   "name": "python",
   "nbconvert_exporter": "python",
   "pygments_lexer": "ipython3",
   "version": "3.9.13"
  }
 },
 "nbformat": 4,
 "nbformat_minor": 5
}
